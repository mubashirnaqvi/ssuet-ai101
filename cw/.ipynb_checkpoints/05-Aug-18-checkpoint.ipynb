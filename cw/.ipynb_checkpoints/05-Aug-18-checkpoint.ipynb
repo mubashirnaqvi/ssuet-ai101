{
 "cells": [
  {
   "cell_type": "markdown",
   "metadata": {},
   "source": [
    "CHAPTER 19 - POPPING ELEMENTS"
   ]
  },
  {
   "cell_type": "code",
   "execution_count": 6,
   "metadata": {},
   "outputs": [
    {
     "name": "stdout",
     "output_type": "stream",
     "text": [
      "['Buy a phone', 'Call Ali', 'Kill Modi', 'Sleep tight']\n",
      "atask = Buy a phone\n",
      "tasks\n",
      "\n",
      "['Buy a phone', 'Call Ali', 'Kill Modi']\n",
      "\n",
      "accomplished_tasks\n",
      "\n",
      "['Sleep tight']\n",
      "atask = Call Ali\n",
      "tasks\n",
      "\n",
      "['Buy a phone', 'Call Ali']\n",
      "\n",
      "accomplished_tasks\n",
      "\n",
      "['Sleep tight', 'Kill Modi']\n",
      "tasks\n",
      "\n",
      "['Buy a phone', 'Call Ali']\n",
      "\n",
      "accomplished_tasks\n",
      "\n",
      "['Sleep tight', 'Kill Modi']\n"
     ]
    }
   ],
   "source": [
    "tasks = [\"Buy a phone\", \"Call Ali\", \"Kill Modi\", \"Sleep tight\"]\n",
    "print(tasks)\n",
    "accomplished_tasks=[]\n",
    "for atask in tasks:\n",
    "    print(\"atask = \" + atask)\n",
    "    accomplished_tasks.append(tasks.pop())\n",
    "    print(\"tasks\\n\")\n",
    "    print(tasks)\n",
    "    print(\"\\naccomplished_tasks\\n\")\n",
    "    print(accomplished_tasks)\n",
    "\n",
    "print(\"tasks\\n\")\n",
    "print(tasks)\n",
    "print(\"\\naccomplished_tasks\\n\")\n",
    "print(accomplished_tasks)\n",
    "\n",
    "    "
   ]
  },
  {
   "cell_type": "code",
   "execution_count": 13,
   "metadata": {},
   "outputs": [
    {
     "name": "stdout",
     "output_type": "stream",
     "text": [
      "['One', 'Two', 'Three', 'One']\n",
      "2\n",
      "['One', 'One', 'Three', 'Two']\n",
      "4\n"
     ]
    }
   ],
   "source": [
    "myList = [\"One\",\"Two\",\"Three\",\"One\"]\n",
    "print(myList)\n",
    "print(myList.count(\"One\"))\n",
    "#myList.clear()\n",
    "myList.sort()\n",
    "print(myList)\n",
    "\n",
    "print(len(myList))"
   ]
  },
  {
   "cell_type": "code",
   "execution_count": 19,
   "metadata": {},
   "outputs": [
    {
     "name": "stdout",
     "output_type": "stream",
     "text": [
      "[5, 2, 6, 8, 1, 12, 63, 11, 8, 0, 1, 4, 4656, 323, 77, 2, 78]\n",
      "[0, 1, 1, 2, 2, 4, 5, 6, 8, 8, 11, 12, 63, 77, 78, 323, 4656]\n",
      "[0, 1, 1, 2, 2, 4, 5, 6, 8, 8, 11, 12, 63, 77, 78, 323, 4656, 3223103416]\n",
      "[0, 1, 1, 2, 2, 4, 5, 6, 8, 8, 11, 12, 63, 77, 78, 323, 4656, 3223103416, 'new']\n",
      "[0, 1, 1, 2, 2, 4, 5, 6, 8, 8, 11, 12, 63, 77, 78, 323, 4656, 3223103416]\n",
      "[3223103416, 4656, 323, 78, 77, 63, 12, 11, 8, 8, 6, 5, 4, 2, 2, 1, 1, 0]\n"
     ]
    }
   ],
   "source": [
    "nums = [5,2,6,8,1,12,63,11,8,0,1,4,4656,323,77,2,78]\n",
    "print(nums)\n",
    "\n",
    "nums.sort()\n",
    "print(nums)\n",
    "\n",
    "newnums = nums\n",
    "\n",
    "nums.append(3223103416)\n",
    "print(newnums)\n",
    "\n",
    "clist = newnums.copy()\n",
    "newnums.append(\"new\")\n",
    "\n",
    "print(newnums)\n",
    "print(clist)\n",
    "\n",
    "clist.reverse()\n",
    "\n",
    "print(clist)"
   ]
  },
  {
   "cell_type": "markdown",
   "metadata": {},
   "source": [
    "LIST COMREHENSIONS ... QUEUES"
   ]
  },
  {
   "cell_type": "code",
   "execution_count": 21,
   "metadata": {},
   "outputs": [
    {
     "name": "stdout",
     "output_type": "stream",
     "text": [
      "[0, 1, 4, 9, 16, 25, 36, 49, 64, 81, 100]\n"
     ]
    }
   ],
   "source": [
    "squares = []\n",
    "for x in range(11):\n",
    "    squares.append(x**2)\n",
    "print(squares)"
   ]
  },
  {
   "cell_type": "code",
   "execution_count": 24,
   "metadata": {},
   "outputs": [
    {
     "data": {
      "text/plain": [
       "[0, 1, 4, 9, 16, 25, 36, 49, 64, 81, 100]"
      ]
     },
     "execution_count": 24,
     "metadata": {},
     "output_type": "execute_result"
    }
   ],
   "source": [
    "squares = [x**2 for x in range(11)]\n",
    "\n",
    "squares"
   ]
  },
  {
   "cell_type": "code",
   "execution_count": 26,
   "metadata": {},
   "outputs": [
    {
     "data": {
      "text/plain": [
       "[(1, 3), (1, 4), (2, 3), (2, 1), (2, 4), (3, 1), (3, 4)]"
      ]
     },
     "execution_count": 26,
     "metadata": {},
     "output_type": "execute_result"
    }
   ],
   "source": [
    "combs=[]\n",
    "for x in [1, 2, 3]:\n",
    "    for y in [3, 1, 4]:\n",
    "        if x != y:\n",
    "            combs.append((x, y))\n",
    "\n",
    "combs\n",
    "        \n",
    "    \n"
   ]
  },
  {
   "cell_type": "code",
   "execution_count": 27,
   "metadata": {},
   "outputs": [
    {
     "data": {
      "text/plain": [
       "[(1, 3), (1, 4), (2, 3), (2, 1), (2, 4), (3, 1), (3, 4)]"
      ]
     },
     "execution_count": 27,
     "metadata": {},
     "output_type": "execute_result"
    }
   ],
   "source": [
    "combs = [(x, y) for x in [1, 2, 3] for y in [3, 1, 4] if x != y]\n",
    "combs"
   ]
  },
  {
   "cell_type": "markdown",
   "metadata": {},
   "source": [
    "More on Lists - Python 3.7 documentation Chapter 5\n",
    "\n",
    "List Comprehension\n",
    "Tupples\n",
    "Sets"
   ]
  },
  {
   "cell_type": "code",
   "execution_count": 29,
   "metadata": {},
   "outputs": [
    {
     "data": {
      "text/plain": [
       "['Islamabad']"
      ]
     },
     "execution_count": 29,
     "metadata": {},
     "output_type": "execute_result"
    }
   ],
   "source": [
    "cleancity = \"Islamabad\"\n",
    "cities = [\"Karachi\", \"Lahore\", \"Multan\", \"Rawalpindi\", \"Islamabad\", \"Faisalabad\", \"Peshawar\"]\n",
    "\n",
    "res = [x for x in cities if x == cleancity ]\n",
    "res"
   ]
  },
  {
   "cell_type": "code",
   "execution_count": null,
   "metadata": {},
   "outputs": [],
   "source": []
  }
 ],
 "metadata": {
  "kernelspec": {
   "display_name": "Python 3",
   "language": "python",
   "name": "python3"
  },
  "language_info": {
   "codemirror_mode": {
    "name": "ipython",
    "version": 3
   },
   "file_extension": ".py",
   "mimetype": "text/x-python",
   "name": "python",
   "nbconvert_exporter": "python",
   "pygments_lexer": "ipython3",
   "version": "3.6.5"
  }
 },
 "nbformat": 4,
 "nbformat_minor": 2
}
