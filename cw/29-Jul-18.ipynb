{
 "cells": [
  {
   "cell_type": "markdown",
   "metadata": {},
   "source": [
    "In today's class, we covered Chapters 9 to "
   ]
  },
  {
   "cell_type": "code",
   "execution_count": 2,
   "metadata": {},
   "outputs": [
    {
     "data": {
      "text/plain": [
       "NoneType"
      ]
     },
     "execution_count": 2,
     "metadata": {},
     "output_type": "execute_result"
    }
   ],
   "source": [
    "grade = None    # None is a keyword for null values in Python\n",
    "type(grade) "
   ]
  },
  {
   "cell_type": "code",
   "execution_count": 3,
   "metadata": {},
   "outputs": [
    {
     "data": {
      "text/plain": [
       "str"
      ]
     },
     "execution_count": 3,
     "metadata": {},
     "output_type": "execute_result"
    }
   ],
   "source": [
    "grade = \"A1\"\n",
    "type(grade)"
   ]
  },
  {
   "cell_type": "code",
   "execution_count": 11,
   "metadata": {},
   "outputs": [
    {
     "name": "stdout",
     "output_type": "stream",
     "text": [
      "N\n"
     ]
    }
   ],
   "source": [
    "canCastVote = \"N\"\n",
    "hasNIC = \"Y\"\n",
    "inVoterList = \"N\"\n",
    "if hasNIC == \"Y\":\n",
    "    if inVoterList == \"Y\":\n",
    "        canCastVote = \"Y\"\n",
    "\n",
    "print(canCastVote)"
   ]
  },
  {
   "cell_type": "code",
   "execution_count": 16,
   "metadata": {},
   "outputs": [
    {
     "name": "stdout",
     "output_type": "stream",
     "text": [
      "Do you have a NIC? [Y or N] : Y\n",
      "Is your name in the voter list? [Y or N] : N\n",
      "You are not eligible to cast your vote\n"
     ]
    }
   ],
   "source": [
    "canCastVote = \"N\"\n",
    "hasNIC = input(\"Do you have a NIC? [Y or N] : \")\n",
    "inVoterList = input(\"Is your name in the voter list? [Y or N] : \")\n",
    "\n",
    "\n",
    "if hasNIC == \"Y\":\n",
    "    if inVoterList == \"Y\":\n",
    "        canCastVote = \"Y\"\n",
    "        print(\"You are eligible to cast your vote\")\n",
    "\n",
    "if canCastVote == \"N\":\n",
    "    print(\"You are not eligible to cast your vote\")"
   ]
  },
  {
   "cell_type": "code",
   "execution_count": 18,
   "metadata": {},
   "outputs": [
    {
     "name": "stdout",
     "output_type": "stream",
     "text": [
      "Enter weight in Kg  : 67\n",
      "Enter height in ft  : 6\n",
      "Enter time in minutes : 7\n",
      "Candidate does not meet the recruiting criteria\n"
     ]
    }
   ],
   "source": [
    "# Dynamic typecasting using eval\n",
    "weight = eval(input(\"Enter weight in Kg  : \"))\n",
    "height = eval(input(\"Enter height in ft  : \"))\n",
    "time = eval(input(\"Enter time in minutes : \"))\n",
    "\n",
    "if weight < 75 and height > 5.7 and time < 6:\n",
    "    status = \"Try to recruit him\"\n",
    "else:\n",
    "    status = \"Candidate does not meet the recruiting criteria\"\n",
    "print(status)"
   ]
  },
  {
   "cell_type": "code",
   "execution_count": 25,
   "metadata": {},
   "outputs": [
    {
     "data": {
      "text/plain": [
       "[1, 3, 5, 7, 9]"
      ]
     },
     "execution_count": 25,
     "metadata": {},
     "output_type": "execute_result"
    }
   ],
   "source": [
    "# Lists in Python are hetrogenous, they can contain values of different data types\n",
    "myFriends = [\"Ahmed\", \"Mudassir\", \"Yaseen\"]\n",
    "\"Amjad\" in myFriends\n",
    "\n",
    "myNums = list(range(1, 11, 2)) # Range function returns range of values with a step given as 3rd argument\n",
    "myNums"
   ]
  },
  {
   "cell_type": "code",
   "execution_count": 26,
   "metadata": {},
   "outputs": [
    {
     "data": {
      "text/plain": [
       "['make breakfast', 'clean room', 'wash clothes']"
      ]
     },
     "execution_count": 26,
     "metadata": {},
     "output_type": "execute_result"
    }
   ],
   "source": [
    "todolist = []\n",
    "todolist = todolist + [\"make breakfast\", \"clean room\", \"wash clothes\"]\n",
    "todolist"
   ]
  },
  {
   "cell_type": "code",
   "execution_count": 30,
   "metadata": {},
   "outputs": [
    {
     "data": {
      "text/plain": [
       "['Los Angeles', 'Seattle']"
      ]
     },
     "execution_count": 30,
     "metadata": {},
     "output_type": "execute_result"
    }
   ],
   "source": [
    "# Taking sclices out of list\n",
    "cities = [\"Atlanta\", \"Baltimore\", \"Chicago\", \"Denver\", \"Los Angeles\", \"Seattle\"]\n",
    "new_cities = cities[2:5]\n",
    "new_cities\n"
   ]
  },
  {
   "cell_type": "code",
   "execution_count": 39,
   "metadata": {},
   "outputs": [
    {
     "data": {
      "text/plain": [
       "['Denver', 'Los Angeles', 'Seattle']"
      ]
     },
     "execution_count": 39,
     "metadata": {},
     "output_type": "execute_result"
    }
   ],
   "source": [
    "# Taking sclices out of list\n",
    "cities = [\"Atlanta\", \"Baltimore\", \"Chicago\", \"Denver\", \"Los Angeles\", \"Seattle\"]\n",
    "\n",
    "cities[-3:]\n"
   ]
  },
  {
   "cell_type": "code",
   "execution_count": 40,
   "metadata": {},
   "outputs": [
    {
     "data": {
      "text/plain": [
       "['Mubashir', 'Salman', 'Yaseen', 'Ali']"
      ]
     },
     "execution_count": 40,
     "metadata": {},
     "output_type": "execute_result"
    }
   ],
   "source": [
    "names = [\"Mubashir\", \"Salman\", \"Ali\", \"Yaseen\", \"Ali\"]\n",
    "names.remove(\"Ali\")\n",
    "names\n"
   ]
  },
  {
   "cell_type": "code",
   "execution_count": 41,
   "metadata": {},
   "outputs": [
    {
     "data": {
      "text/plain": [
       "['Mubashir', 'Salman', 'Yaseen']"
      ]
     },
     "execution_count": 41,
     "metadata": {},
     "output_type": "execute_result"
    }
   ],
   "source": [
    "names.remove(\"Ali\")\n",
    "names"
   ]
  },
  {
   "cell_type": "code",
   "execution_count": null,
   "metadata": {},
   "outputs": [],
   "source": []
  },
  {
   "cell_type": "code",
   "execution_count": null,
   "metadata": {},
   "outputs": [],
   "source": []
  }
 ],
 "metadata": {
  "kernelspec": {
   "display_name": "Python 3",
   "language": "python",
   "name": "python3"
  },
  "language_info": {
   "codemirror_mode": {
    "name": "ipython",
    "version": 3
   },
   "file_extension": ".py",
   "mimetype": "text/x-python",
   "name": "python",
   "nbconvert_exporter": "python",
   "pygments_lexer": "ipython3",
   "version": "3.6.5"
  }
 },
 "nbformat": 4,
 "nbformat_minor": 2
}
