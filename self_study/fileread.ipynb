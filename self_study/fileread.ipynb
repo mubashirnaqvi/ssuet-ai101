{
 "cells": [
  {
   "cell_type": "markdown",
   "metadata": {},
   "source": [
    "# Open a text file for reading and find the following\n",
    "# 1. Count the number of occurrances of a single character\n",
    "# or word(s) taken as input.\n",
    "# Also ask user if search should be case sensitive\n",
    "# Also count uppercase words\n",
    "\n"
   ]
  },
  {
   "cell_type": "code",
   "execution_count": 1,
   "metadata": {},
   "outputs": [
    {
     "name": "stdout",
     "output_type": "stream",
     "text": [
      "Number of Lines: 17\n",
      "Number of Words: 249\n",
      "Number of Characters: 1561\n",
      "\n",
      "\n",
      "Upper Case Words: 7\n",
      "Lower Case Words: 206\n",
      "Title Case Words: 36\n",
      "\n",
      "\n"
     ]
    }
   ],
   "source": [
    "numLines = 0\n",
    "numWords = 0\n",
    "numChars = 0\n",
    "numUpperWords = 0\n",
    "numLowerWords = 0\n",
    "numTitleWords = 0\n",
    "\n",
    "with open(\"E:\\\\Dropbox\\\\LEARN\\\\SSUET-AI101\\\\repository\\\\ssuet-ai101\\\\self_study\\\\freetext.txt\", \"r\") as myFile:\n",
    "    for line in myFile:\n",
    "        # Lets's create a list of words\n",
    "        wordList = line.split()\n",
    "        numLines += 1\n",
    "        numWords += len(wordList)  # just get length of list in each iteration\n",
    "        numChars += len(line)      # get length of the line in each iteration\n",
    "        \n",
    "        # iterate through the words in line and see if word is upper or lower case\n",
    "        for word in wordList:\n",
    "            if word.upper() == word:\n",
    "                numUpperWords += 1\n",
    "            elif word.lower() == word:\n",
    "                numLowerWords += 1\n",
    "            elif word.title() == word:\n",
    "                numTitleWords += 1\n",
    "    \n",
    "    print(\"Number of Lines: %i\\nNumber of Words: %i\\nNumber of Characters: %i\\n\\n\" % (numLines, numWords, numChars) )\n",
    "    \n",
    "    print(\"Upper Case Words: %i\\nLower Case Words: %i\\nTitle Case Words: %i\\n\\n\" % (numUpperWords, numLowerWords, numTitleWords) )\n"
   ]
  },
  {
   "cell_type": "code",
   "execution_count": null,
   "metadata": {},
   "outputs": [
    {
     "name": "stdout",
     "output_type": "stream",
     "text": [
      "Enter a character of word to search in the file : roshni\n",
      "Do you want to match case? [y/n] [0 to exit]n\n",
      "3\n",
      "Enter a character of word to search in the file : r\n",
      "Do you want to match case? [y/n] [0 to exit]n\n",
      "100\n",
      "Enter a character of word to search in the file : yaseen\n",
      "Do you want to match case? [y/n] [0 to exit]n\n",
      "0\n",
      "Enter a character of word to search in the file : roshni\n",
      "Do you want to match case? [y/n] [0 to exit]y\n",
      "0\n"
     ]
    }
   ],
   "source": [
    "with open(\"E:\\\\Dropbox\\\\LEARN\\\\SSUET-AI101\\\\repository\\\\ssuet-ai101\\\\self_study\\\\freetext.txt\", \"r\") as myFile:\n",
    "    myText = myFile.read()\n",
    "    \n",
    "    while 1==1:\n",
    "        match = input(\"Enter a character of word to search in the file : \")\n",
    "        mc = input(\"Do you want to match case? [y/n] [0 to exit]\")\n",
    "        if mc == \"0\":\n",
    "            print(\"Good Bye!\")\n",
    "            break\n",
    "        elif mc == \"y\":\n",
    "                myCount = myText.count(match)\n",
    "        elif mc == \"n\":\n",
    "                myCount = myText.lower().count(match.lower())\n",
    "        else:\n",
    "            print(\"I expected '0', 'y' or 'n' \\n Default value 'n' used\")\n",
    "            myCount == myText.lower().count(match.lower())\n",
    "    \n",
    "        print(myCount)"
   ]
  },
  {
   "cell_type": "code",
   "execution_count": null,
   "metadata": {},
   "outputs": [],
   "source": []
  }
 ],
 "metadata": {
  "kernelspec": {
   "display_name": "Python 3",
   "language": "python",
   "name": "python3"
  },
  "language_info": {
   "codemirror_mode": {
    "name": "ipython",
    "version": 3
   },
   "file_extension": ".py",
   "mimetype": "text/x-python",
   "name": "python",
   "nbconvert_exporter": "python",
   "pygments_lexer": "ipython3",
   "version": "3.6.5"
  }
 },
 "nbformat": 4,
 "nbformat_minor": 2
}
