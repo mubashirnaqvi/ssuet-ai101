{
 "cells": [
  {
   "cell_type": "code",
   "execution_count": 7,
   "metadata": {},
   "outputs": [
    {
     "name": "stdout",
     "output_type": "stream",
     "text": [
      "Enter a number: [0 to exit]2\n",
      "Prime Number\n",
      "Enter a number: [0 to exit]3\n",
      "Prime Number\n",
      "Enter a number: [0 to exit]5\n",
      "Prime Number\n",
      "Enter a number: [0 to exit]7\n",
      "Prime Number\n",
      "Enter a number: [0 to exit]9\n",
      "Not a Prime Number\n",
      "Enter a number: [0 to exit]0\n"
     ]
    }
   ],
   "source": [
    "while (1 == 1):\n",
    "    num = int( input(\"Enter a number: [0 to exit]\") )\n",
    "    if (num == 0):\n",
    "        break\n",
    "    for i in range(2, num-1):\n",
    "        if num % i == 0:\n",
    "            print(\"Not a Prime Number\")\n",
    "            break\n",
    "    else:\n",
    "        print(\"Prime Number\")"
   ]
  },
  {
   "cell_type": "code",
   "execution_count": null,
   "metadata": {},
   "outputs": [],
   "source": []
  }
 ],
 "metadata": {
  "kernelspec": {
   "display_name": "Python 3",
   "language": "python",
   "name": "python3"
  },
  "language_info": {
   "codemirror_mode": {
    "name": "ipython",
    "version": 3
   },
   "file_extension": ".py",
   "mimetype": "text/x-python",
   "name": "python",
   "nbconvert_exporter": "python",
   "pygments_lexer": "ipython3",
   "version": "3.6.5"
  }
 },
 "nbformat": 4,
 "nbformat_minor": 2
}
